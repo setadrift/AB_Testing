{
  "nbformat": 4,
  "nbformat_minor": 0,
  "metadata": {
    "colab": {
      "name": "A/B_Testing.ipynb",
      "provenance": []
    },
    "kernelspec": {
      "name": "python3",
      "display_name": "Python 3"
    },
    "language_info": {
      "name": "python"
    }
  },
  "cells": [
    {
      "cell_type": "markdown",
      "metadata": {
        "id": "4-0l-vRotvw6"
      },
      "source": [
        "## A/B Testing Marketing Promotions\n",
        "\n",
        "Which promotion was the most effective?\n",
        "\n",
        "**SCENARIO** \n",
        "\n",
        "A retailer plans to add a new product to its catalogue. However, they are still undecided between three possible marketing campaigns for promoting the new product. In order to determine which promotion has the greatest effect on sales, the new item is introduced at locations in several randomly selected markets. A different promoition is used at each location and the weekly sales of the new items are recorded for the first four weeks. \n",
        "\n",
        "The description of the dataset: Our data set consists of 548 entries including: \n",
        "\n",
        "- MarketId: an inhouse tag used to describe market types, which we won't need to use. \n",
        "\n",
        "- AgegOfStores: Age of store in years (1-28). The mean age of a store is 8.5 years. \n",
        "\n",
        "- LocationID: Unique identifier for store location. Each location is identified by a number and the total number of stores is 37. \n",
        "\n",
        "- Promotion: One of 3 promotions that were tested (1,2,3). We don't really know the specifics of each promotion. Nor does it really matter. \n",
        "\n",
        "- Sales In Thousands: Sales amount for a specific LocationID, promotion and week. The mean amount of sales are 53.5 thousand dollars. \n",
        "\n",
        "- Market size: There are 3 types of market size: small, medium, large. \n",
        "\n",
        "- Week: One of four weeks when the promotions were run (1-4)"
      ]
    },
    {
      "cell_type": "markdown",
      "metadata": {
        "id": "WNdioRJ7j652"
      },
      "source": [
        "**Null Hypothesis**\n",
        "\n",
        "- There is no difference between the different promotions\n",
        "\n",
        "**Alternative Hypothesis**\n",
        "\n",
        "- One of the promotions is (B) is better than the other (A) "
      ]
    },
    {
      "cell_type": "code",
      "metadata": {
        "colab": {
          "base_uri": "https://localhost:8080/",
          "height": 359
        },
        "id": "itnU4iWUaNET",
        "outputId": "a9e2a4bd-0096-429e-f0af-4f8a955e6e9f"
      },
      "source": [
        "import pandas as pd\n",
        "import matplotlib.pyplot as plt\n",
        "\n",
        "file_name = \"https://raw.githubusercontent.com/rajeevratan84/datascienceforbusiness/master/WA_Fn-UseC_-Marketing-Campaign-Eff-UseC_-FastF.csv\"\n",
        "df = pd.read_csv(file_name)\n",
        "\n",
        "df.head(10)\n"
      ],
      "execution_count": 2,
      "outputs": [
        {
          "output_type": "execute_result",
          "data": {
            "text/html": [
              "<div>\n",
              "<style scoped>\n",
              "    .dataframe tbody tr th:only-of-type {\n",
              "        vertical-align: middle;\n",
              "    }\n",
              "\n",
              "    .dataframe tbody tr th {\n",
              "        vertical-align: top;\n",
              "    }\n",
              "\n",
              "    .dataframe thead th {\n",
              "        text-align: right;\n",
              "    }\n",
              "</style>\n",
              "<table border=\"1\" class=\"dataframe\">\n",
              "  <thead>\n",
              "    <tr style=\"text-align: right;\">\n",
              "      <th></th>\n",
              "      <th>MarketID</th>\n",
              "      <th>MarketSize</th>\n",
              "      <th>LocationID</th>\n",
              "      <th>AgeOfStore</th>\n",
              "      <th>Promotion</th>\n",
              "      <th>week</th>\n",
              "      <th>SalesInThousands</th>\n",
              "    </tr>\n",
              "  </thead>\n",
              "  <tbody>\n",
              "    <tr>\n",
              "      <th>0</th>\n",
              "      <td>1</td>\n",
              "      <td>Medium</td>\n",
              "      <td>1</td>\n",
              "      <td>4</td>\n",
              "      <td>3</td>\n",
              "      <td>1</td>\n",
              "      <td>33.73</td>\n",
              "    </tr>\n",
              "    <tr>\n",
              "      <th>1</th>\n",
              "      <td>1</td>\n",
              "      <td>Medium</td>\n",
              "      <td>1</td>\n",
              "      <td>4</td>\n",
              "      <td>3</td>\n",
              "      <td>2</td>\n",
              "      <td>35.67</td>\n",
              "    </tr>\n",
              "    <tr>\n",
              "      <th>2</th>\n",
              "      <td>1</td>\n",
              "      <td>Medium</td>\n",
              "      <td>1</td>\n",
              "      <td>4</td>\n",
              "      <td>3</td>\n",
              "      <td>3</td>\n",
              "      <td>29.03</td>\n",
              "    </tr>\n",
              "    <tr>\n",
              "      <th>3</th>\n",
              "      <td>1</td>\n",
              "      <td>Medium</td>\n",
              "      <td>1</td>\n",
              "      <td>4</td>\n",
              "      <td>3</td>\n",
              "      <td>4</td>\n",
              "      <td>39.25</td>\n",
              "    </tr>\n",
              "    <tr>\n",
              "      <th>4</th>\n",
              "      <td>1</td>\n",
              "      <td>Medium</td>\n",
              "      <td>2</td>\n",
              "      <td>5</td>\n",
              "      <td>2</td>\n",
              "      <td>1</td>\n",
              "      <td>27.81</td>\n",
              "    </tr>\n",
              "    <tr>\n",
              "      <th>5</th>\n",
              "      <td>1</td>\n",
              "      <td>Medium</td>\n",
              "      <td>2</td>\n",
              "      <td>5</td>\n",
              "      <td>2</td>\n",
              "      <td>2</td>\n",
              "      <td>34.67</td>\n",
              "    </tr>\n",
              "    <tr>\n",
              "      <th>6</th>\n",
              "      <td>1</td>\n",
              "      <td>Medium</td>\n",
              "      <td>2</td>\n",
              "      <td>5</td>\n",
              "      <td>2</td>\n",
              "      <td>3</td>\n",
              "      <td>27.98</td>\n",
              "    </tr>\n",
              "    <tr>\n",
              "      <th>7</th>\n",
              "      <td>1</td>\n",
              "      <td>Medium</td>\n",
              "      <td>2</td>\n",
              "      <td>5</td>\n",
              "      <td>2</td>\n",
              "      <td>4</td>\n",
              "      <td>27.72</td>\n",
              "    </tr>\n",
              "    <tr>\n",
              "      <th>8</th>\n",
              "      <td>1</td>\n",
              "      <td>Medium</td>\n",
              "      <td>3</td>\n",
              "      <td>12</td>\n",
              "      <td>1</td>\n",
              "      <td>1</td>\n",
              "      <td>44.54</td>\n",
              "    </tr>\n",
              "    <tr>\n",
              "      <th>9</th>\n",
              "      <td>1</td>\n",
              "      <td>Medium</td>\n",
              "      <td>3</td>\n",
              "      <td>12</td>\n",
              "      <td>1</td>\n",
              "      <td>2</td>\n",
              "      <td>37.94</td>\n",
              "    </tr>\n",
              "  </tbody>\n",
              "</table>\n",
              "</div>"
            ],
            "text/plain": [
              "   MarketID MarketSize  LocationID  ...  Promotion  week  SalesInThousands\n",
              "0         1     Medium           1  ...          3     1             33.73\n",
              "1         1     Medium           1  ...          3     2             35.67\n",
              "2         1     Medium           1  ...          3     3             29.03\n",
              "3         1     Medium           1  ...          3     4             39.25\n",
              "4         1     Medium           2  ...          2     1             27.81\n",
              "5         1     Medium           2  ...          2     2             34.67\n",
              "6         1     Medium           2  ...          2     3             27.98\n",
              "7         1     Medium           2  ...          2     4             27.72\n",
              "8         1     Medium           3  ...          1     1             44.54\n",
              "9         1     Medium           3  ...          1     2             37.94\n",
              "\n",
              "[10 rows x 7 columns]"
            ]
          },
          "metadata": {
            "tags": []
          },
          "execution_count": 2
        }
      ]
    },
    {
      "cell_type": "markdown",
      "metadata": {
        "id": "W2BnTuj3aqTu"
      },
      "source": [
        "For Location ID 1, you can see that's 1 store's activity over 4 weeks. "
      ]
    },
    {
      "cell_type": "code",
      "metadata": {
        "colab": {
          "base_uri": "https://localhost:8080/"
        },
        "id": "JzXmZAvfaf66",
        "outputId": "7f9bd700-9455-4895-ab0c-c2139346f7b9"
      },
      "source": [
        "print (\"Rows     : \" , df.shape[0])\n",
        "print (\"Columns  : \" , df.shape[1])\n",
        "print (\"\\nFeatures : \\n\", df.columns.tolist())\n",
        "print (\"\\nMissing values :  \", df.isnull().sum().values.sum())\n",
        "print (\"\\nUnique values :  \\n\", df.nunique())"
      ],
      "execution_count": 5,
      "outputs": [
        {
          "output_type": "stream",
          "text": [
            "Rows     :  548\n",
            "Columns  :  7\n",
            "\n",
            "Features : \n",
            " ['MarketID', 'MarketSize', 'LocationID', 'AgeOfStore', 'Promotion', 'week', 'SalesInThousands']\n",
            "\n",
            "Missing values :   0\n",
            "\n",
            "Unique values :  \n",
            " MarketID             10\n",
            "MarketSize            3\n",
            "LocationID          137\n",
            "AgeOfStore           25\n",
            "Promotion             3\n",
            "week                  4\n",
            "SalesInThousands    517\n",
            "dtype: int64\n"
          ],
          "name": "stdout"
        }
      ]
    },
    {
      "cell_type": "code",
      "metadata": {
        "colab": {
          "base_uri": "https://localhost:8080/",
          "height": 297
        },
        "id": "kFhUbJ3bbPxp",
        "outputId": "70acca8b-4593-4943-86b7-e6eed9decd52"
      },
      "source": [
        "df.describe()"
      ],
      "execution_count": 6,
      "outputs": [
        {
          "output_type": "execute_result",
          "data": {
            "text/html": [
              "<div>\n",
              "<style scoped>\n",
              "    .dataframe tbody tr th:only-of-type {\n",
              "        vertical-align: middle;\n",
              "    }\n",
              "\n",
              "    .dataframe tbody tr th {\n",
              "        vertical-align: top;\n",
              "    }\n",
              "\n",
              "    .dataframe thead th {\n",
              "        text-align: right;\n",
              "    }\n",
              "</style>\n",
              "<table border=\"1\" class=\"dataframe\">\n",
              "  <thead>\n",
              "    <tr style=\"text-align: right;\">\n",
              "      <th></th>\n",
              "      <th>MarketID</th>\n",
              "      <th>LocationID</th>\n",
              "      <th>AgeOfStore</th>\n",
              "      <th>Promotion</th>\n",
              "      <th>week</th>\n",
              "      <th>SalesInThousands</th>\n",
              "    </tr>\n",
              "  </thead>\n",
              "  <tbody>\n",
              "    <tr>\n",
              "      <th>count</th>\n",
              "      <td>548.000000</td>\n",
              "      <td>548.000000</td>\n",
              "      <td>548.000000</td>\n",
              "      <td>548.000000</td>\n",
              "      <td>548.000000</td>\n",
              "      <td>548.000000</td>\n",
              "    </tr>\n",
              "    <tr>\n",
              "      <th>mean</th>\n",
              "      <td>5.715328</td>\n",
              "      <td>479.656934</td>\n",
              "      <td>8.503650</td>\n",
              "      <td>2.029197</td>\n",
              "      <td>2.500000</td>\n",
              "      <td>53.466204</td>\n",
              "    </tr>\n",
              "    <tr>\n",
              "      <th>std</th>\n",
              "      <td>2.877001</td>\n",
              "      <td>287.973679</td>\n",
              "      <td>6.638345</td>\n",
              "      <td>0.810729</td>\n",
              "      <td>1.119055</td>\n",
              "      <td>16.755216</td>\n",
              "    </tr>\n",
              "    <tr>\n",
              "      <th>min</th>\n",
              "      <td>1.000000</td>\n",
              "      <td>1.000000</td>\n",
              "      <td>1.000000</td>\n",
              "      <td>1.000000</td>\n",
              "      <td>1.000000</td>\n",
              "      <td>17.340000</td>\n",
              "    </tr>\n",
              "    <tr>\n",
              "      <th>25%</th>\n",
              "      <td>3.000000</td>\n",
              "      <td>216.000000</td>\n",
              "      <td>4.000000</td>\n",
              "      <td>1.000000</td>\n",
              "      <td>1.750000</td>\n",
              "      <td>42.545000</td>\n",
              "    </tr>\n",
              "    <tr>\n",
              "      <th>50%</th>\n",
              "      <td>6.000000</td>\n",
              "      <td>504.000000</td>\n",
              "      <td>7.000000</td>\n",
              "      <td>2.000000</td>\n",
              "      <td>2.500000</td>\n",
              "      <td>50.200000</td>\n",
              "    </tr>\n",
              "    <tr>\n",
              "      <th>75%</th>\n",
              "      <td>8.000000</td>\n",
              "      <td>708.000000</td>\n",
              "      <td>12.000000</td>\n",
              "      <td>3.000000</td>\n",
              "      <td>3.250000</td>\n",
              "      <td>60.477500</td>\n",
              "    </tr>\n",
              "    <tr>\n",
              "      <th>max</th>\n",
              "      <td>10.000000</td>\n",
              "      <td>920.000000</td>\n",
              "      <td>28.000000</td>\n",
              "      <td>3.000000</td>\n",
              "      <td>4.000000</td>\n",
              "      <td>99.650000</td>\n",
              "    </tr>\n",
              "  </tbody>\n",
              "</table>\n",
              "</div>"
            ],
            "text/plain": [
              "         MarketID  LocationID  ...        week  SalesInThousands\n",
              "count  548.000000  548.000000  ...  548.000000        548.000000\n",
              "mean     5.715328  479.656934  ...    2.500000         53.466204\n",
              "std      2.877001  287.973679  ...    1.119055         16.755216\n",
              "min      1.000000    1.000000  ...    1.000000         17.340000\n",
              "25%      3.000000  216.000000  ...    1.750000         42.545000\n",
              "50%      6.000000  504.000000  ...    2.500000         50.200000\n",
              "75%      8.000000  708.000000  ...    3.250000         60.477500\n",
              "max     10.000000  920.000000  ...    4.000000         99.650000\n",
              "\n",
              "[8 rows x 6 columns]"
            ]
          },
          "metadata": {
            "tags": []
          },
          "execution_count": 6
        }
      ]
    },
    {
      "cell_type": "markdown",
      "metadata": {
        "id": "UpbG8NnWbsjj"
      },
      "source": [
        "The max age for a store is 28 years old and the min age is 1 year old\n",
        "\n",
        "There is an average of ~53 thousand in sales a week"
      ]
    },
    {
      "cell_type": "markdown",
      "metadata": {
        "id": "8_5K_YDKb5wn"
      },
      "source": [
        "## EDA and Visualizations"
      ]
    },
    {
      "cell_type": "code",
      "metadata": {
        "colab": {
          "base_uri": "https://localhost:8080/",
          "height": 483
        },
        "id": "Rl16MC2kbpNm",
        "outputId": "af322637-0b5a-41bd-e3a3-5b84f47f2086"
      },
      "source": [
        "# Let's create some plots to visualize our sales and marketing data \n",
        "\n",
        "# Using ggplot's style\n",
        "\n",
        "plt.style.use('ggplot')\n",
        "ax = df.groupby('Promotion').sum()['SalesInThousands'].plot.pie(figsize=(8,8),\n",
        "                                                                autopct = '%1.0f%%',\n",
        "                                                                shadow = True,\n",
        "                                                                explode = (0,0.1,0))\n",
        "\n",
        "ax.set_ylabel('')\n",
        "ax.set_title('Sales Dist Across the 3 different Promotions')\n",
        "\n",
        "plt.show()"
      ],
      "execution_count": 8,
      "outputs": [
        {
          "output_type": "display_data",
          "data": {
            "image/png": "[encoded data removed]",
            "text/plain": [
              "<Figure size 576x576 with 1 Axes>"
            ]
          },
          "metadata": {
            "tags": []
          }
        }
      ]
    },
    {
      "cell_type": "markdown",
      "metadata": {
        "id": "dG-EHr6EcW6W"
      },
      "source": [
        "What was the most domininant promotion in terms of sales? "
      ]
    },
    {
      "cell_type": "code",
      "metadata": {
        "colab": {
          "base_uri": "https://localhost:8080/"
        },
        "id": "a4GPVsf7cQmq",
        "outputId": "790a32d6-e5f8-425d-82d0-f960663aefe2"
      },
      "source": [
        "# Let's view the promotions for each market size\n",
        "\n",
        "df.groupby(['Promotion', \"MarketSize\"]).count()['MarketID']"
      ],
      "execution_count": 10,
      "outputs": [
        {
          "output_type": "execute_result",
          "data": {
            "text/plain": [
              "Promotion  MarketSize\n",
              "1          Large          56\n",
              "           Medium         96\n",
              "           Small          20\n",
              "2          Large          64\n",
              "           Medium        108\n",
              "           Small          16\n",
              "3          Large          48\n",
              "           Medium        116\n",
              "           Small          24\n",
              "Name: MarketID, dtype: int64"
            ]
          },
          "metadata": {
            "tags": []
          },
          "execution_count": 10
        }
      ]
    },
    {
      "cell_type": "markdown",
      "metadata": {
        "id": "xeFrwy-bcw0P"
      },
      "source": [
        "All of this should add up to 548. We see the breakdown of what was used."
      ]
    },
    {
      "cell_type": "code",
      "metadata": {
        "colab": {
          "base_uri": "https://localhost:8080/",
          "height": 173
        },
        "id": "OPKzKUFrdfeR",
        "outputId": "97bdbc7d-3e0d-4e9b-9710-4d03c116f812"
      },
      "source": [
        "# let's take a look at the 'unstack' function in pandas. it'll be helpful to flatten the above date \n",
        "\n",
        "df.groupby(['Promotion', 'MarketSize']).count()['MarketID'].unstack('MarketSize')"
      ],
      "execution_count": 12,
      "outputs": [
        {
          "output_type": "execute_result",
          "data": {
            "text/html": [
              "<div>\n",
              "<style scoped>\n",
              "    .dataframe tbody tr th:only-of-type {\n",
              "        vertical-align: middle;\n",
              "    }\n",
              "\n",
              "    .dataframe tbody tr th {\n",
              "        vertical-align: top;\n",
              "    }\n",
              "\n",
              "    .dataframe thead th {\n",
              "        text-align: right;\n",
              "    }\n",
              "</style>\n",
              "<table border=\"1\" class=\"dataframe\">\n",
              "  <thead>\n",
              "    <tr style=\"text-align: right;\">\n",
              "      <th>MarketSize</th>\n",
              "      <th>Large</th>\n",
              "      <th>Medium</th>\n",
              "      <th>Small</th>\n",
              "    </tr>\n",
              "    <tr>\n",
              "      <th>Promotion</th>\n",
              "      <th></th>\n",
              "      <th></th>\n",
              "      <th></th>\n",
              "    </tr>\n",
              "  </thead>\n",
              "  <tbody>\n",
              "    <tr>\n",
              "      <th>1</th>\n",
              "      <td>56</td>\n",
              "      <td>96</td>\n",
              "      <td>20</td>\n",
              "    </tr>\n",
              "    <tr>\n",
              "      <th>2</th>\n",
              "      <td>64</td>\n",
              "      <td>108</td>\n",
              "      <td>16</td>\n",
              "    </tr>\n",
              "    <tr>\n",
              "      <th>3</th>\n",
              "      <td>48</td>\n",
              "      <td>116</td>\n",
              "      <td>24</td>\n",
              "    </tr>\n",
              "  </tbody>\n",
              "</table>\n",
              "</div>"
            ],
            "text/plain": [
              "MarketSize  Large  Medium  Small\n",
              "Promotion                       \n",
              "1              56      96     20\n",
              "2              64     108     16\n",
              "3              48     116     24"
            ]
          },
          "metadata": {
            "tags": []
          },
          "execution_count": 12
        }
      ]
    },
    {
      "cell_type": "code",
      "metadata": {
        "colab": {
          "base_uri": "https://localhost:8080/",
          "height": 622
        },
        "id": "KkHiCf5pctTc",
        "outputId": "45ddc51d-c0f9-4d50-ef02-06af0d1ac3ba"
      },
      "source": [
        "# Great now let's put the above info into a plot \n",
        "\n",
        "ax = df.groupby(['Promotion', 'MarketSize']).count()['MarketID'].unstack('MarketSize').plot(\n",
        "    kind='bar',\n",
        "    figsize=(12,10),\n",
        "    grid=True)\n",
        "\n",
        "ax.set_ylabel('count')\n",
        "ax.set_title(\"Breakdowns of market sizes across different promotions\")\n",
        "\n",
        "plt.show()"
      ],
      "execution_count": 11,
      "outputs": [
        {
          "output_type": "display_data",
          "data": {
            "image/png": "[encoded data removed]",
            "text/plain": [
              "<Figure size 864x720 with 1 Axes>"
            ]
          },
          "metadata": {
            "tags": []
          }
        }
      ]
    },
    {
      "cell_type": "markdown",
      "metadata": {
        "id": "g_VlBhhndKVu"
      },
      "source": [
        "We can see for the small stores aren't that common, however the medium stores are very common. The Large stores are in the middle. "
      ]
    },
    {
      "cell_type": "code",
      "metadata": {
        "colab": {
          "base_uri": "https://localhost:8080/",
          "height": 622
        },
        "id": "EgK54VOGdIIw",
        "outputId": "d46fdc89-050c-4fb4-b1a4-44c4223c6158"
      },
      "source": [
        "# Now let's put this into a stacked barchart plot to see if we can get it looking better \n",
        "\n",
        "ax = df.groupby(['Promotion', 'MarketSize']).count()['MarketID'].unstack('MarketSize').plot(\n",
        "    kind='bar',\n",
        "    figsize=(12,10),\n",
        "    grid=True, \n",
        "    stacked=True)\n",
        "\n",
        "ax.set_ylabel('count')\n",
        "ax.set_title(\"Breakdowns of market sizes across different promotions\")\n",
        "\n",
        "plt.show()"
      ],
      "execution_count": 13,
      "outputs": [
        {
          "output_type": "display_data",
          "data": {
            "image/png": "[encoded data removed]",
            "text/plain": [
              "<Figure size 864x720 with 1 Axes>"
            ]
          },
          "metadata": {
            "tags": []
          }
        }
      ]
    },
    {
      "cell_type": "markdown",
      "metadata": {
        "id": "sUOWoEyBd-Wn"
      },
      "source": [
        "Visually this stacked barchart doesn't work as well. It's easier to visualize with the normal barchart"
      ]
    },
    {
      "cell_type": "code",
      "metadata": {
        "colab": {
          "base_uri": "https://localhost:8080/",
          "height": 465
        },
        "id": "HW_0nw6odzhC",
        "outputId": "96b7ad96-2023-43fd-becc-50089080b735"
      },
      "source": [
        "# Let's take a look at the overall distributions of store ages \n",
        "\n",
        "ax = df.groupby(\"AgeOfStore\").count()['MarketID'].plot(\n",
        "    kind='bar',\n",
        "    figsize=(12,7),\n",
        "    grid=True)\n",
        "\n",
        "ax.set_xlabel('age')\n",
        "ax.set_ylabel('count')\n",
        "ax.set_title('Overall Distributions of Store Ages')\n",
        "\n",
        "plt.show()"
      ],
      "execution_count": 15,
      "outputs": [
        {
          "output_type": "display_data",
          "data": {
            "image/png": "[encoded data removed]",
            "text/plain": [
              "<Figure size 864x504 with 1 Axes>"
            ]
          },
          "metadata": {
            "tags": []
          }
        }
      ]
    },
    {
      "cell_type": "markdown",
      "metadata": {
        "id": "0tGnIRLGejoI"
      },
      "source": [
        "Quite interesting. Majority of the stores are new - 1 year old. The nthere's a peak around 5 years old, and starts to descend. "
      ]
    },
    {
      "cell_type": "code",
      "metadata": {
        "colab": {
          "base_uri": "https://localhost:8080/"
        },
        "id": "rJSVFJgGeXDx",
        "outputId": "6edf825d-6679-474b-f26e-4cd57f439bdb"
      },
      "source": [
        "# Let's group by age of store and promotion to get counts\n",
        "\n",
        "df.groupby(['AgeOfStore', 'Promotion']).count()['MarketID']"
      ],
      "execution_count": 16,
      "outputs": [
        {
          "output_type": "execute_result",
          "data": {
            "text/plain": [
              "AgeOfStore  Promotion\n",
              "1           1            24\n",
              "            2            36\n",
              "            3            20\n",
              "2           1             8\n",
              "            2             8\n",
              "            3             4\n",
              "3           1            16\n",
              "            2            12\n",
              "            3             4\n",
              "4           1            16\n",
              "            2            12\n",
              "            3            16\n",
              "5           1             8\n",
              "            2            12\n",
              "            3            24\n",
              "6           1            20\n",
              "            2             4\n",
              "            3            12\n",
              "7           1             4\n",
              "            2            24\n",
              "            3            12\n",
              "8           1            12\n",
              "            2             8\n",
              "            3            20\n",
              "9           1             8\n",
              "            2            12\n",
              "            3             8\n",
              "10          2            16\n",
              "            3             8\n",
              "11          1             4\n",
              "            3            12\n",
              "12          1            12\n",
              "            2             4\n",
              "            3             8\n",
              "13          1            12\n",
              "            2             8\n",
              "14          2             8\n",
              "            3             4\n",
              "15          1             4\n",
              "            2             4\n",
              "17          3             4\n",
              "18          1             8\n",
              "19          1             4\n",
              "            2             8\n",
              "            3             8\n",
              "20          3             4\n",
              "22          1             4\n",
              "            3             8\n",
              "23          2             4\n",
              "            3             4\n",
              "24          1             4\n",
              "            3             8\n",
              "25          2             4\n",
              "27          1             4\n",
              "28          2             4\n",
              "Name: MarketID, dtype: int64"
            ]
          },
          "metadata": {
            "tags": []
          },
          "execution_count": 16
        }
      ]
    },
    {
      "cell_type": "markdown",
      "metadata": {
        "id": "sl1XkO1se1Ko"
      },
      "source": [
        "For stores that are 1 year old, 24 use promotion 1, 36 use promotion 2, and 20 use promotion 3"
      ]
    },
    {
      "cell_type": "code",
      "metadata": {
        "colab": {
          "base_uri": "https://localhost:8080/",
          "height": 1000
        },
        "id": "BeRQrru1e0fm",
        "outputId": "b85c2883-07d8-442e-83c5-5a7f1c31116a"
      },
      "source": [
        "# Let's visualize the above summary \n",
        "\n",
        "ax = df.groupby(['AgeOfStore', 'Promotion']).count()['MarketID'].unstack('Promotion').iloc[::-1].plot(\n",
        "    kind='barh',\n",
        "    figsize=(14,18),\n",
        "    grid=True)\n",
        "\n",
        "ax.set_ylabel('age')\n",
        "ax.set_xlabel('count')\n",
        "ax.set_title('overall distributions of age of store')\n",
        "\n",
        "plt.show()"
      ],
      "execution_count": 17,
      "outputs": [
        {
          "output_type": "display_data",
          "data": {
            "image/png": "[encoded data removed]",
            "text/plain": [
              "<Figure size 1008x1296 with 1 Axes>"
            ]
          },
          "metadata": {
            "tags": []
          }
        }
      ]
    },
    {
      "cell_type": "markdown",
      "metadata": {
        "id": "JA4lfmTmfVDa"
      },
      "source": [
        ""
      ]
    },
    {
      "cell_type": "code",
      "metadata": {
        "colab": {
          "base_uri": "https://localhost:8080/",
          "height": 173
        },
        "id": "Q7Lrw1a4eyg3",
        "outputId": "a5960baa-fc1d-4a74-97af-deae7d3ebd0f"
      },
      "source": [
        "df.groupby('Promotion').describe()['AgeOfStore']"
      ],
      "execution_count": 18,
      "outputs": [
        {
          "output_type": "execute_result",
          "data": {
            "text/html": [
              "<div>\n",
              "<style scoped>\n",
              "    .dataframe tbody tr th:only-of-type {\n",
              "        vertical-align: middle;\n",
              "    }\n",
              "\n",
              "    .dataframe tbody tr th {\n",
              "        vertical-align: top;\n",
              "    }\n",
              "\n",
              "    .dataframe thead th {\n",
              "        text-align: right;\n",
              "    }\n",
              "</style>\n",
              "<table border=\"1\" class=\"dataframe\">\n",
              "  <thead>\n",
              "    <tr style=\"text-align: right;\">\n",
              "      <th></th>\n",
              "      <th>count</th>\n",
              "      <th>mean</th>\n",
              "      <th>std</th>\n",
              "      <th>min</th>\n",
              "      <th>25%</th>\n",
              "      <th>50%</th>\n",
              "      <th>75%</th>\n",
              "      <th>max</th>\n",
              "    </tr>\n",
              "    <tr>\n",
              "      <th>Promotion</th>\n",
              "      <th></th>\n",
              "      <th></th>\n",
              "      <th></th>\n",
              "      <th></th>\n",
              "      <th></th>\n",
              "      <th></th>\n",
              "      <th></th>\n",
              "      <th></th>\n",
              "    </tr>\n",
              "  </thead>\n",
              "  <tbody>\n",
              "    <tr>\n",
              "      <th>1</th>\n",
              "      <td>172.0</td>\n",
              "      <td>8.279070</td>\n",
              "      <td>6.636160</td>\n",
              "      <td>1.0</td>\n",
              "      <td>3.0</td>\n",
              "      <td>6.0</td>\n",
              "      <td>12.0</td>\n",
              "      <td>27.0</td>\n",
              "    </tr>\n",
              "    <tr>\n",
              "      <th>2</th>\n",
              "      <td>188.0</td>\n",
              "      <td>7.978723</td>\n",
              "      <td>6.597648</td>\n",
              "      <td>1.0</td>\n",
              "      <td>3.0</td>\n",
              "      <td>7.0</td>\n",
              "      <td>10.0</td>\n",
              "      <td>28.0</td>\n",
              "    </tr>\n",
              "    <tr>\n",
              "      <th>3</th>\n",
              "      <td>188.0</td>\n",
              "      <td>9.234043</td>\n",
              "      <td>6.651646</td>\n",
              "      <td>1.0</td>\n",
              "      <td>5.0</td>\n",
              "      <td>8.0</td>\n",
              "      <td>12.0</td>\n",
              "      <td>24.0</td>\n",
              "    </tr>\n",
              "  </tbody>\n",
              "</table>\n",
              "</div>"
            ],
            "text/plain": [
              "           count      mean       std  min  25%  50%   75%   max\n",
              "Promotion                                                      \n",
              "1          172.0  8.279070  6.636160  1.0  3.0  6.0  12.0  27.0\n",
              "2          188.0  7.978723  6.597648  1.0  3.0  7.0  10.0  28.0\n",
              "3          188.0  9.234043  6.651646  1.0  5.0  8.0  12.0  24.0"
            ]
          },
          "metadata": {
            "tags": []
          },
          "execution_count": 18
        }
      ]
    },
    {
      "cell_type": "markdown",
      "metadata": {
        "id": "s38JzKCKfe3T"
      },
      "source": [
        "This table makes it easy to understand the overall store age distribution from our summary stats. \n",
        "\n",
        "All test groups have similar age profiles and the average store age is 8 to 9 years old for these 3 groups. \n",
        "\n",
        "The majority of the stores are 1012 years old or even younger \n",
        "\n",
        "We can see that the store frofiles are similar to eachother, which indicates that are sample groups are well controlled and the **A/B testing results will be meaningful and trustworthy**"
      ]
    },
    {
      "cell_type": "markdown",
      "metadata": {
        "id": "B2LyVPwegV7c"
      },
      "source": [
        "## Performing A/B Testing"
      ]
    },
    {
      "cell_type": "code",
      "metadata": {
        "id": "lIVQYLChfcu9"
      },
      "source": [
        "means = df.groupby('Promotion').mean()['SalesInThousands']\n",
        "stds = df.groupby('Promotion').std()['SalesInThousands']\n",
        "ns = df.groupby('Promotion').count()['SalesInThousands']"
      ],
      "execution_count": 19,
      "outputs": []
    },
    {
      "cell_type": "code",
      "metadata": {
        "colab": {
          "base_uri": "https://localhost:8080/"
        },
        "id": "4Aje5YeChNAs",
        "outputId": "86ead6f5-4046-46f6-ce83-dd493e9fc54c"
      },
      "source": [
        "print(means)\n",
        "print(stds)\n",
        "print(ns) #number of samples"
      ],
      "execution_count": 22,
      "outputs": [
        {
          "output_type": "stream",
          "text": [
            "Promotion\n",
            "1    58.099012\n",
            "2    47.329415\n",
            "3    55.364468\n",
            "Name: SalesInThousands, dtype: float64\n",
            "Promotion\n",
            "1    16.553782\n",
            "2    15.108955\n",
            "3    16.766231\n",
            "Name: SalesInThousands, dtype: float64\n",
            "Promotion\n",
            "1    172\n",
            "2    188\n",
            "3    188\n",
            "Name: SalesInThousands, dtype: int64\n"
          ],
          "name": "stdout"
        }
      ]
    },
    {
      "cell_type": "markdown",
      "metadata": {
        "id": "uXU5Go2MghzQ"
      },
      "source": [
        "### T-Value\n",
        "\n",
        "The t-value measures the degree of difference relative to the variation in our data groups. Large t-values indicate a higher degree of difference between the groups \n",
        "\n",
        "### P-Value \n",
        "\n",
        "The P-value measures the probability that the results would occur by random chance. Therefore, the smaller the p-value is, the more statistically significant the difference there will be between the two groups"
      ]
    },
    {
      "cell_type": "markdown",
      "metadata": {
        "id": "OLhGVNd1gyXB"
      },
      "source": [
        "# Comparing Promotion 1 vs Promotion 2 in an A/B Test"
      ]
    },
    {
      "cell_type": "code",
      "metadata": {
        "colab": {
          "base_uri": "https://localhost:8080/"
        },
        "id": "M9EVrttPggHi",
        "outputId": "063c7554-76f4-44d3-d367-4d48508ae2e0"
      },
      "source": [
        "# computing the t an p values using scipy\n",
        "from scipy import stats \n",
        "\n",
        "t, p = stats.ttest_ind(df.loc[df['Promotion'] == 1, 'SalesInThousands'].values,\n",
        "                       df.loc[df['Promotion'] == 2, 'SalesInThousands'].values,\n",
        "                       equal_var=False)\n",
        "\n",
        "print(\"t-value = \" +str(t))\n",
        "print(\"p-value = \" +str(p))"
      ],
      "execution_count": 23,
      "outputs": [
        {
          "output_type": "stream",
          "text": [
            "t-value = 6.42752867090748\n",
            "p-value = 4.2903687179871785e-10\n"
          ],
          "name": "stdout"
        }
      ]
    },
    {
      "cell_type": "markdown",
      "metadata": {
        "id": "RNTLaZq7hsO_"
      },
      "source": [
        "## Analysis of P and T-Values\n",
        "\n",
        "Our **P-Value is close 0** which suggests that there is good evidence to **REJECT the Null Hypothesis** -- meaning that there is a statistical difference between the two groups. \n",
        "\n",
        "Our threshold for rejecting the null hypothesis is usually less than 0.05\n",
        "\n",
        "Our **t-test** shows that the marketing performances for these two groups are significantly different and that promotion group 1 out-performs promotion group 2. \n",
        "\n",
        "The one with the larger mean is group 1."
      ]
    },
    {
      "cell_type": "markdown",
      "metadata": {
        "id": "uZCag4cNiZ2I"
      },
      "source": [
        "# Comparing Promotion 1 vs Promotion 3 in an A/B Test\n",
        "\n",
        "However, if we run a t-test between the promotion group 1 and group 3, we will see different results:"
      ]
    },
    {
      "cell_type": "code",
      "metadata": {
        "colab": {
          "base_uri": "https://localhost:8080/"
        },
        "id": "ziLPbnLQhqCo",
        "outputId": "06c2e14f-ae28-43ba-c482-1eb047ba04e3"
      },
      "source": [
        "t, p = stats.ttest_ind(df.loc[df['Promotion'] == 1, 'SalesInThousands'].values,\n",
        "                       df.loc[df['Promotion'] == 3, 'SalesInThousands'].values,\n",
        "                       equal_var=False)\n",
        "\n",
        "print(\"t-value = \" +str(t))\n",
        "print(\"p-value = \" +str(p))"
      ],
      "execution_count": 24,
      "outputs": [
        {
          "output_type": "stream",
          "text": [
            "t-value = 1.5560224307758634\n",
            "p-value = 0.12059147742229478\n"
          ],
          "name": "stdout"
        }
      ]
    },
    {
      "cell_type": "markdown",
      "metadata": {
        "id": "20arakJniodN"
      },
      "source": [
        "## Analysis of P and T-Values\n",
        "\n",
        "We note that the avg sales from promotion group 1 (58.1) is higher than those from promotion group 3 (55.36).\n",
        "\n",
        "But after running the t-test between these two gruops, we get a t-value of 1.556 and a p-value of 0.121. \n",
        "\n",
        "The computed **p-value is a lot higher than 0.05**, past the threshold for statistical significance. \n",
        "\n",
        "We can't conclude anything from these results to reject our null hypothesis. The null hypothesis always states that there is no difference. So we accept the null hypothesis because our p-value is so high. The difference between the means, because they're relatively close, we can say the difference is purely due to random chance - probably because we don't have enough stats"
      ]
    },
    {
      "cell_type": "code",
      "metadata": {
        "id": "gKrgha-RilfP"
      },
      "source": [
        ""
      ],
      "execution_count": null,
      "outputs": []
    }
  ]
}